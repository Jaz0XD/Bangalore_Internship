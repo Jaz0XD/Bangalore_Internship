{
 "cells": [
  {
   "cell_type": "markdown",
   "id": "c4db049a-b89e-4762-9c86-368765b58edb",
   "metadata": {},
   "source": [
    "# Streamlit application creation"
   ]
  },
  {
   "cell_type": "code",
   "execution_count": null,
   "id": "b0a4da8a-aed1-4a00-9e57-c8f20994d535",
   "metadata": {},
   "outputs": [],
   "source": []
  }
 ],
 "metadata": {
  "kernelspec": {
   "display_name": "Python 3 (ipykernel)",
   "language": "python",
   "name": "python3"
  },
  "language_info": {
   "codemirror_mode": {
    "name": "ipython",
    "version": 3
   },
   "file_extension": ".py",
   "mimetype": "text/x-python",
   "name": "python",
   "nbconvert_exporter": "python",
   "pygments_lexer": "ipython3",
   "version": "3.10.18"
  }
 },
 "nbformat": 4,
 "nbformat_minor": 5
}
